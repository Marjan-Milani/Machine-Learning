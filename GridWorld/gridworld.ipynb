{
 "cells": [
  {
   "cell_type": "markdown",
   "metadata": {
    "colab": {
     "base_uri": "https://localhost:8080/",
     "height": 104
    },
    "colab_type": "code",
    "id": "SFh0zR4Bob25",
    "outputId": "24789b8a-3715-46c7-bb0f-cf5222fb5fdf"
   },
   "source": [
    "*****\n",
    "GridWorld Project written by Marjan Choodari Milani \n",
    "*****\n",
    "Master student in Artificial intelligence \n",
    "*****\n",
    "2021 summer\n",
    "*****\n"
   ]
  },
  {
   "cell_type": "code",
   "execution_count": 2,
   "metadata": {},
   "outputs": [
    {
     "data": {
      "text/plain": [
       "array([[0., 0., 0., 0., 0.],\n",
       "       [0., 0., 0., 0., 0.],\n",
       "       [0., 0., 0., 0., 0.],\n",
       "       [0., 0., 0., 0., 0.],\n",
       "       [0., 0., 0., 0., 0.]])"
      ]
     },
     "execution_count": 2,
     "metadata": {},
     "output_type": "execute_result"
    }
   ],
   "source": [
    "import numpy as np\n",
    "\n",
    "grid = np.zeros((5,5))\n",
    "grid"
   ]
  },
  {
   "cell_type": "code",
   "execution_count": 0,
   "metadata": {
    "colab": {},
    "colab_type": "code",
    "id": "6T1uH2KYHBTY"
   },
   "outputs": [],
   "source": [
    "Y = .90  \n",
    "for num in range(10): \n",
    "  for i in range(5):      \n",
    "    for j in range(5):\n",
    "      \n",
    "      up_grid = grid[i-1][j] if i > 0 else 0   \n",
    "      down_grid = grid[i+1][j] if i < 4 else 0  \n",
    "      left_grid = grid[i][j-1] if j > 0 else 0 \n",
    "      right_grid = grid[i][j+1] if j < 4 else 0  \n",
    "\n",
    "      all_dirs = [up_grid, down_grid, left_grid, right_grid]     \n",
    "\n",
    "      value=0  \n",
    "      if i==0 and j==1:\n",
    "        value = 10 + Y*grid[4][1]\n",
    "      elif i==0 and j==3: \n",
    "        value = 5 + Y*grid[2][3]\n",
    "      else:\n",
    "        for direc in all_dirs:\n",
    "          if direc != 0: \n",
    "            value += .25 * (0 + Y*direc)  \n",
    "          else:\n",
    "            value += .25 * (-1 + Y*grid[i][j]) \n",
    "        \n",
    "      grid[i][j] = value   \n"
   ]
  },
  {
   "cell_type": "code",
   "execution_count": 3,
   "metadata": {
    "colab": {
     "base_uri": "https://localhost:8080/",
     "height": 104
    },
    "colab_type": "code",
    "id": "svU5dUsswS6z",
    "outputId": "87e761bf-375e-42dc-a38d-b39627f71b65"
   },
   "outputs": [
    {
     "data": {
      "text/plain": [
       "array([[ 3.3,  8.8,  4.4,  5.3,  1.5],\n",
       "       [ 1.5,  3. ,  2.2,  1.9,  0.5],\n",
       "       [ 0. ,  0.7,  0.7,  0.4, -0.4],\n",
       "       [-1. , -0.4, -0.3, -0.6, -1.2],\n",
       "       [-1.9, -1.3, -1.2, -1.4, -1.9]])"
      ]
     },
     "execution_count": 3,
     "metadata": {
      "tags": []
     },
     "output_type": "execute_result"
    }
   ],
   "source": [
    "np.round(grid, 1)"
   ]
  },
  {
   "cell_type": "code",
   "execution_count": 0,
   "metadata": {
    "colab": {},
    "colab_type": "code",
    "id": "DQZUbYefdPr1"
   },
   "outputs": [],
   "source": []
  }
 ],
 "metadata": {
  "colab": {
   "collapsed_sections": [],
   "name": "RL_gridworld.ipynb",
   "provenance": []
  },
  "kernelspec": {
   "display_name": "Python 3",
   "language": "python",
   "name": "python3"
  },
  "language_info": {
   "codemirror_mode": {
    "name": "ipython",
    "version": 3
   },
   "file_extension": ".py",
   "mimetype": "text/x-python",
   "name": "python",
   "nbconvert_exporter": "python",
   "pygments_lexer": "ipython3",
   "version": "3.9.5"
  }
 },
 "nbformat": 4,
 "nbformat_minor": 1
}
