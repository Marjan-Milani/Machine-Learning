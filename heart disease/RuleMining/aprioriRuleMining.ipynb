{
 "cells": [
  {
   "cell_type": "markdown",
   "metadata": {
    "colab_type": "text",
    "id": "1fziHl7Ar94J"
   },
   "source": [
    "# Apriori"
   ]
  },
  {
   "cell_type": "markdown",
   "metadata": {
    "colab_type": "text",
    "id": "eiNwni1xsEgT"
   },
   "source": [
    "## Importing the libraries"
   ]
  },
  {
   "cell_type": "code",
   "execution_count": 40,
   "metadata": {
    "colab": {},
    "colab_type": "code",
    "id": "UJfitBClsJlT"
   },
   "outputs": [],
   "source": [
    "import numpy as np\n",
    "import matplotlib.pyplot as plt\n",
    "import pandas as pd"
   ]
  },
  {
   "cell_type": "markdown",
   "metadata": {
    "colab_type": "text",
    "id": "vLt-7XUKsXBd"
   },
   "source": [
    "## Data Preprocessing"
   ]
  },
  {
   "cell_type": "code",
   "execution_count": 41,
   "metadata": {
    "colab": {},
    "colab_type": "code",
    "id": "J_A-UFOAsaDf"
   },
   "outputs": [],
   "source": [
    "dataset = pd.read_csv('Market_Basket_Optimisation.csv', header = None)\n",
    "transactions = []\n",
    "for i in range(0, 7501):\n",
    "    transactions.append([str(dataset.values[i,j]) for j in range(0, 20)])"
   ]
  },
  {
   "cell_type": "markdown",
   "metadata": {
    "colab_type": "text",
    "id": "1wYZdBd5sea_"
   },
   "source": [
    "## Training the Apriori model on the dataset"
   ]
  },
  {
   "cell_type": "code",
   "execution_count": 42,
   "metadata": {
    "colab": {},
    "colab_type": "code",
    "id": "YzIk4vXZsj5i"
   },
   "outputs": [],
   "source": [
    "from apyori import apriori\n",
    "rules = apriori(transactions, min_support = 0.003 , min_confidence = 0.25 , min_lift = 5 , min_length = 2)"
   ]
  },
  {
   "cell_type": "markdown",
   "metadata": {
    "colab_type": "text",
    "id": "b176YNwWspiO"
   },
   "source": [
    "## Visualising the results"
   ]
  },
  {
   "cell_type": "code",
   "execution_count": 43,
   "metadata": {},
   "outputs": [
    {
     "name": "stdout",
     "output_type": "stream",
     "text": [
      "Rule:['mineral water', 'whole wheat pasta', 'olive oil']\n",
      "Support: 0.0038661511798426876\n",
      "Confidence: 0.4027777777777778\n",
      "Lift: 6.115862573099416\n",
      "=====================================\n",
      "Rule:['mineral water', 'frozen vegetables', 'milk', 'soup']\n",
      "Support: 0.0030662578322890282\n",
      "Confidence: 0.27710843373493976\n",
      "Lift: 5.484407286136631\n",
      "=====================================\n",
      "Rule:['mineral water', 'whole wheat pasta', 'olive oil']\n",
      "Support: 0.0038661511798426876\n",
      "Confidence: 0.4027777777777778\n",
      "Lift: 6.115862573099416\n",
      "=====================================\n",
      "Rule:['soup', 'mineral water', 'frozen vegetables', 'milk']\n",
      "Support: 0.0030662578322890282\n",
      "Confidence: 0.27710843373493976\n",
      "Lift: 5.484407286136631\n",
      "=====================================\n"
     ]
    }
   ],
   "source": [
    "import re \n",
    "pattern = \"nan\"\n",
    "\n",
    "for item in rules:\n",
    "    \n",
    "    mylist = list(item[0])\n",
    "    for j in mylist:\n",
    "        if re.match(pattern, j):\n",
    "            mylist.remove(j)\n",
    "   \n",
    "    \n",
    "    print( f\"Rule:{mylist}\")  \n",
    " \n",
    "    print(\"Support: \" + str(item[1]))\n",
    "\n",
    "    print(\"Confidence: \" + str(item[2][0][2]))\n",
    "    print(\"Lift: \" + str(item[2][0][3]))\n",
    "    print(\"=====================================\")\n",
    "    "
   ]
  },
  {
   "cell_type": "code",
   "execution_count": null,
   "metadata": {},
   "outputs": [],
   "source": []
  }
 ],
 "metadata": {
  "colab": {
   "authorship_tag": "ABX9TyO41Q6DRmOTeVEfityPN5hB",
   "collapsed_sections": [],
   "name": "Apriori",
   "provenance": [],
   "toc_visible": true
  },
  "kernelspec": {
   "display_name": "Python 3",
   "language": "python",
   "name": "python3"
  },
  "language_info": {
   "codemirror_mode": {
    "name": "ipython",
    "version": 3
   },
   "file_extension": ".py",
   "mimetype": "text/x-python",
   "name": "python",
   "nbconvert_exporter": "python",
   "pygments_lexer": "ipython3",
   "version": "3.8.8"
  }
 },
 "nbformat": 4,
 "nbformat_minor": 1
}
