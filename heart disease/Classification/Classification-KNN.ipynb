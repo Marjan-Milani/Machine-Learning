{
 "cells": [
  {
   "cell_type": "markdown",
   "id": "8d872bc9",
   "metadata": {},
   "source": [
    "# Classification - KNN "
   ]
  },
  {
   "cell_type": "markdown",
   "id": "80698d3e",
   "metadata": {},
   "source": [
    "## import Libraries"
   ]
  },
  {
   "cell_type": "code",
   "execution_count": 6,
   "id": "d948bcac",
   "metadata": {},
   "outputs": [],
   "source": [
    "import numpy as np \n",
    "import pandas as pd \n",
    "import matplotlib.pyplot as plt"
   ]
  },
  {
   "cell_type": "code",
   "execution_count": 7,
   "id": "1512ca4a",
   "metadata": {},
   "outputs": [],
   "source": [
    "df = pd.read_csv('heart.csv')"
   ]
  },
  {
   "cell_type": "markdown",
   "id": "4b7c8202",
   "metadata": {},
   "source": [
    "## Preprocessing"
   ]
  },
  {
   "cell_type": "code",
   "execution_count": 8,
   "id": "3a1c9707",
   "metadata": {},
   "outputs": [],
   "source": [
    "sex_dic = {'M': 1 , 'F': 0}\n",
    "df['Sex'] = df['Sex'].map(sex_dic)\n",
    "\n",
    "ExerciseAngina_dic = {'N' : 0 , 'Y' : 1 }\n",
    "df['ExerciseAngina'] = df['ExerciseAngina'].map(ExerciseAngina_dic)\n",
    "\n",
    "ST_Slope_dic = {'Up':2 , 'Flat':1 ,'Down' : 0}\n",
    "df['ST_Slope'] = df['ST_Slope'].map(ST_Slope_dic)\n",
    "\n",
    "ChestPainType_dic = {'ATA' : 0 , 'NAP' : 1, 'TA':2, 'ASY' : 3 }\n",
    "df['ChestPainType'] = df['ChestPainType'].map(ChestPainType_dic)\n",
    "\n",
    "RestingECG_dic = {'LVH':2, 'Normal':0 , 'ST': 1 }\n",
    "df['RestingECG'] = df['RestingECG'].map(RestingECG_dic)"
   ]
  },
  {
   "cell_type": "markdown",
   "id": "3d3ffd72",
   "metadata": {},
   "source": [
    "## Feature Selection with backward elimination"
   ]
  },
  {
   "cell_type": "code",
   "execution_count": 9,
   "id": "1c341d65",
   "metadata": {},
   "outputs": [
    {
     "data": {
      "text/html": [
       "<table class=\"simpletable\">\n",
       "<caption>OLS Regression Results</caption>\n",
       "<tr>\n",
       "  <th>Dep. Variable:</th>      <td>HeartDisease</td>   <th>  R-squared:         </th> <td>   0.530</td> \n",
       "</tr>\n",
       "<tr>\n",
       "  <th>Model:</th>                   <td>OLS</td>       <th>  Adj. R-squared:    </th> <td>   0.524</td> \n",
       "</tr>\n",
       "<tr>\n",
       "  <th>Method:</th>             <td>Least Squares</td>  <th>  F-statistic:       </th> <td>   92.89</td> \n",
       "</tr>\n",
       "<tr>\n",
       "  <th>Date:</th>             <td>Mon, 03 Jan 2022</td> <th>  Prob (F-statistic):</th> <td>2.89e-140</td>\n",
       "</tr>\n",
       "<tr>\n",
       "  <th>Time:</th>                 <td>20:19:26</td>     <th>  Log-Likelihood:    </th> <td> -314.44</td> \n",
       "</tr>\n",
       "<tr>\n",
       "  <th>No. Observations:</th>      <td>   918</td>      <th>  AIC:               </th> <td>   652.9</td> \n",
       "</tr>\n",
       "<tr>\n",
       "  <th>Df Residuals:</th>          <td>   906</td>      <th>  BIC:               </th> <td>   710.7</td> \n",
       "</tr>\n",
       "<tr>\n",
       "  <th>Df Model:</th>              <td>    11</td>      <th>                     </th>     <td> </td>    \n",
       "</tr>\n",
       "<tr>\n",
       "  <th>Covariance Type:</th>      <td>nonrobust</td>    <th>                     </th>     <td> </td>    \n",
       "</tr>\n",
       "</table>\n",
       "<table class=\"simpletable\">\n",
       "<tr>\n",
       "    <td></td>       <th>coef</th>     <th>std err</th>      <th>t</th>      <th>P>|t|</th>  <th>[0.025</th>    <th>0.975]</th>  \n",
       "</tr>\n",
       "<tr>\n",
       "  <th>const</th> <td>    0.5321</td> <td>    0.147</td> <td>    3.620</td> <td> 0.000</td> <td>    0.244</td> <td>    0.821</td>\n",
       "</tr>\n",
       "<tr>\n",
       "  <th>x1</th>    <td>    0.0015</td> <td>    0.001</td> <td>    1.063</td> <td> 0.288</td> <td>   -0.001</td> <td>    0.004</td>\n",
       "</tr>\n",
       "<tr>\n",
       "  <th>x2</th>    <td>    0.1547</td> <td>    0.029</td> <td>    5.299</td> <td> 0.000</td> <td>    0.097</td> <td>    0.212</td>\n",
       "</tr>\n",
       "<tr>\n",
       "  <th>x3</th>    <td>    0.1004</td> <td>    0.011</td> <td>    9.239</td> <td> 0.000</td> <td>    0.079</td> <td>    0.122</td>\n",
       "</tr>\n",
       "<tr>\n",
       "  <th>x4</th>    <td>    0.0004</td> <td>    0.001</td> <td>    0.685</td> <td> 0.494</td> <td>   -0.001</td> <td>    0.002</td>\n",
       "</tr>\n",
       "<tr>\n",
       "  <th>x5</th>    <td>   -0.0004</td> <td>    0.000</td> <td>   -3.790</td> <td> 0.000</td> <td>   -0.001</td> <td>   -0.000</td>\n",
       "</tr>\n",
       "<tr>\n",
       "  <th>x6</th>    <td>    0.1300</td> <td>    0.029</td> <td>    4.545</td> <td> 0.000</td> <td>    0.074</td> <td>    0.186</td>\n",
       "</tr>\n",
       "<tr>\n",
       "  <th>x7</th>    <td>    0.0046</td> <td>    0.015</td> <td>    0.310</td> <td> 0.757</td> <td>   -0.024</td> <td>    0.033</td>\n",
       "</tr>\n",
       "<tr>\n",
       "  <th>x8</th>    <td>   -0.0014</td> <td>    0.001</td> <td>   -2.580</td> <td> 0.010</td> <td>   -0.002</td> <td>   -0.000</td>\n",
       "</tr>\n",
       "<tr>\n",
       "  <th>x9</th>    <td>    0.1737</td> <td>    0.028</td> <td>    6.102</td> <td> 0.000</td> <td>    0.118</td> <td>    0.230</td>\n",
       "</tr>\n",
       "<tr>\n",
       "  <th>x10</th>   <td>    0.0399</td> <td>    0.013</td> <td>    3.041</td> <td> 0.002</td> <td>    0.014</td> <td>    0.066</td>\n",
       "</tr>\n",
       "<tr>\n",
       "  <th>x11</th>   <td>   -0.2171</td> <td>    0.024</td> <td>   -9.157</td> <td> 0.000</td> <td>   -0.264</td> <td>   -0.171</td>\n",
       "</tr>\n",
       "</table>\n",
       "<table class=\"simpletable\">\n",
       "<tr>\n",
       "  <th>Omnibus:</th>       <td>15.470</td> <th>  Durbin-Watson:     </th> <td>   2.208</td>\n",
       "</tr>\n",
       "<tr>\n",
       "  <th>Prob(Omnibus):</th> <td> 0.000</td> <th>  Jarque-Bera (JB):  </th> <td>  17.156</td>\n",
       "</tr>\n",
       "<tr>\n",
       "  <th>Skew:</th>          <td>-0.257</td> <th>  Prob(JB):          </th> <td>0.000188</td>\n",
       "</tr>\n",
       "<tr>\n",
       "  <th>Kurtosis:</th>      <td> 3.430</td> <th>  Cond. No.          </th> <td>3.81e+03</td>\n",
       "</tr>\n",
       "</table><br/><br/>Notes:<br/>[1] Standard Errors assume that the covariance matrix of the errors is correctly specified.<br/>[2] The condition number is large, 3.81e+03. This might indicate that there are<br/>strong multicollinearity or other numerical problems."
      ],
      "text/plain": [
       "<class 'statsmodels.iolib.summary.Summary'>\n",
       "\"\"\"\n",
       "                            OLS Regression Results                            \n",
       "==============================================================================\n",
       "Dep. Variable:           HeartDisease   R-squared:                       0.530\n",
       "Model:                            OLS   Adj. R-squared:                  0.524\n",
       "Method:                 Least Squares   F-statistic:                     92.89\n",
       "Date:                Mon, 03 Jan 2022   Prob (F-statistic):          2.89e-140\n",
       "Time:                        20:19:26   Log-Likelihood:                -314.44\n",
       "No. Observations:                 918   AIC:                             652.9\n",
       "Df Residuals:                     906   BIC:                             710.7\n",
       "Df Model:                          11                                         \n",
       "Covariance Type:            nonrobust                                         \n",
       "==============================================================================\n",
       "                 coef    std err          t      P>|t|      [0.025      0.975]\n",
       "------------------------------------------------------------------------------\n",
       "const          0.5321      0.147      3.620      0.000       0.244       0.821\n",
       "x1             0.0015      0.001      1.063      0.288      -0.001       0.004\n",
       "x2             0.1547      0.029      5.299      0.000       0.097       0.212\n",
       "x3             0.1004      0.011      9.239      0.000       0.079       0.122\n",
       "x4             0.0004      0.001      0.685      0.494      -0.001       0.002\n",
       "x5            -0.0004      0.000     -3.790      0.000      -0.001      -0.000\n",
       "x6             0.1300      0.029      4.545      0.000       0.074       0.186\n",
       "x7             0.0046      0.015      0.310      0.757      -0.024       0.033\n",
       "x8            -0.0014      0.001     -2.580      0.010      -0.002      -0.000\n",
       "x9             0.1737      0.028      6.102      0.000       0.118       0.230\n",
       "x10            0.0399      0.013      3.041      0.002       0.014       0.066\n",
       "x11           -0.2171      0.024     -9.157      0.000      -0.264      -0.171\n",
       "==============================================================================\n",
       "Omnibus:                       15.470   Durbin-Watson:                   2.208\n",
       "Prob(Omnibus):                  0.000   Jarque-Bera (JB):               17.156\n",
       "Skew:                          -0.257   Prob(JB):                     0.000188\n",
       "Kurtosis:                       3.430   Cond. No.                     3.81e+03\n",
       "==============================================================================\n",
       "\n",
       "Notes:\n",
       "[1] Standard Errors assume that the covariance matrix of the errors is correctly specified.\n",
       "[2] The condition number is large, 3.81e+03. This might indicate that there are\n",
       "strong multicollinearity or other numerical problems.\n",
       "\"\"\""
      ]
     },
     "execution_count": 9,
     "metadata": {},
     "output_type": "execute_result"
    }
   ],
   "source": [
    "x = df.iloc[:,:-1]\n",
    "y = df.iloc[:,11]\n",
    "\n",
    "\n",
    "import statsmodels.api as sm  \n",
    "\n",
    "x = np.append(arr = np.ones((918,1)).astype(int) , values = x , axis = 1 )\n",
    "x_opt = x[:,[0,1,2,3,4,5,6,7,8,9,10,11]]\n",
    "regressor_OLS = sm.OLS(endog = y , exog = x_opt).fit()\n",
    "regressor_OLS.summary()"
   ]
  },
  {
   "cell_type": "code",
   "execution_count": 10,
   "id": "86e28eee",
   "metadata": {},
   "outputs": [
    {
     "data": {
      "text/html": [
       "<table class=\"simpletable\">\n",
       "<caption>OLS Regression Results</caption>\n",
       "<tr>\n",
       "  <th>Dep. Variable:</th>      <td>HeartDisease</td>   <th>  R-squared:         </th> <td>   0.530</td> \n",
       "</tr>\n",
       "<tr>\n",
       "  <th>Model:</th>                   <td>OLS</td>       <th>  Adj. R-squared:    </th> <td>   0.525</td> \n",
       "</tr>\n",
       "<tr>\n",
       "  <th>Method:</th>             <td>Least Squares</td>  <th>  F-statistic:       </th> <td>   102.3</td> \n",
       "</tr>\n",
       "<tr>\n",
       "  <th>Date:</th>             <td>Mon, 03 Jan 2022</td> <th>  Prob (F-statistic):</th> <td>2.92e-141</td>\n",
       "</tr>\n",
       "<tr>\n",
       "  <th>Time:</th>                 <td>20:19:27</td>     <th>  Log-Likelihood:    </th> <td> -314.49</td> \n",
       "</tr>\n",
       "<tr>\n",
       "  <th>No. Observations:</th>      <td>   918</td>      <th>  AIC:               </th> <td>   651.0</td> \n",
       "</tr>\n",
       "<tr>\n",
       "  <th>Df Residuals:</th>          <td>   907</td>      <th>  BIC:               </th> <td>   704.0</td> \n",
       "</tr>\n",
       "<tr>\n",
       "  <th>Df Model:</th>              <td>    10</td>      <th>                     </th>     <td> </td>    \n",
       "</tr>\n",
       "<tr>\n",
       "  <th>Covariance Type:</th>      <td>nonrobust</td>    <th>                     </th>     <td> </td>    \n",
       "</tr>\n",
       "</table>\n",
       "<table class=\"simpletable\">\n",
       "<tr>\n",
       "    <td></td>       <th>coef</th>     <th>std err</th>      <th>t</th>      <th>P>|t|</th>  <th>[0.025</th>    <th>0.975]</th>  \n",
       "</tr>\n",
       "<tr>\n",
       "  <th>const</th> <td>    0.5249</td> <td>    0.145</td> <td>    3.618</td> <td> 0.000</td> <td>    0.240</td> <td>    0.810</td>\n",
       "</tr>\n",
       "<tr>\n",
       "  <th>x1</th>    <td>    0.0016</td> <td>    0.001</td> <td>    1.156</td> <td> 0.248</td> <td>   -0.001</td> <td>    0.004</td>\n",
       "</tr>\n",
       "<tr>\n",
       "  <th>x2</th>    <td>    0.1547</td> <td>    0.029</td> <td>    5.301</td> <td> 0.000</td> <td>    0.097</td> <td>    0.212</td>\n",
       "</tr>\n",
       "<tr>\n",
       "  <th>x3</th>    <td>    0.1006</td> <td>    0.011</td> <td>    9.290</td> <td> 0.000</td> <td>    0.079</td> <td>    0.122</td>\n",
       "</tr>\n",
       "<tr>\n",
       "  <th>x4</th>    <td>    0.0004</td> <td>    0.001</td> <td>    0.695</td> <td> 0.487</td> <td>   -0.001</td> <td>    0.002</td>\n",
       "</tr>\n",
       "<tr>\n",
       "  <th>x5</th>    <td>   -0.0004</td> <td>    0.000</td> <td>   -3.780</td> <td> 0.000</td> <td>   -0.001</td> <td>   -0.000</td>\n",
       "</tr>\n",
       "<tr>\n",
       "  <th>x6</th>    <td>    0.1303</td> <td>    0.029</td> <td>    4.560</td> <td> 0.000</td> <td>    0.074</td> <td>    0.186</td>\n",
       "</tr>\n",
       "<tr>\n",
       "  <th>x7</th>    <td>   -0.0014</td> <td>    0.001</td> <td>   -2.563</td> <td> 0.011</td> <td>   -0.002</td> <td>   -0.000</td>\n",
       "</tr>\n",
       "<tr>\n",
       "  <th>x8</th>    <td>    0.1735</td> <td>    0.028</td> <td>    6.100</td> <td> 0.000</td> <td>    0.118</td> <td>    0.229</td>\n",
       "</tr>\n",
       "<tr>\n",
       "  <th>x9</th>    <td>    0.0400</td> <td>    0.013</td> <td>    3.051</td> <td> 0.002</td> <td>    0.014</td> <td>    0.066</td>\n",
       "</tr>\n",
       "<tr>\n",
       "  <th>x10</th>   <td>   -0.2173</td> <td>    0.024</td> <td>   -9.175</td> <td> 0.000</td> <td>   -0.264</td> <td>   -0.171</td>\n",
       "</tr>\n",
       "</table>\n",
       "<table class=\"simpletable\">\n",
       "<tr>\n",
       "  <th>Omnibus:</th>       <td>15.332</td> <th>  Durbin-Watson:     </th> <td>   2.209</td>\n",
       "</tr>\n",
       "<tr>\n",
       "  <th>Prob(Omnibus):</th> <td> 0.000</td> <th>  Jarque-Bera (JB):  </th> <td>  17.069</td>\n",
       "</tr>\n",
       "<tr>\n",
       "  <th>Skew:</th>          <td>-0.253</td> <th>  Prob(JB):          </th> <td>0.000197</td>\n",
       "</tr>\n",
       "<tr>\n",
       "  <th>Kurtosis:</th>      <td> 3.435</td> <th>  Cond. No.          </th> <td>3.76e+03</td>\n",
       "</tr>\n",
       "</table><br/><br/>Notes:<br/>[1] Standard Errors assume that the covariance matrix of the errors is correctly specified.<br/>[2] The condition number is large, 3.76e+03. This might indicate that there are<br/>strong multicollinearity or other numerical problems."
      ],
      "text/plain": [
       "<class 'statsmodels.iolib.summary.Summary'>\n",
       "\"\"\"\n",
       "                            OLS Regression Results                            \n",
       "==============================================================================\n",
       "Dep. Variable:           HeartDisease   R-squared:                       0.530\n",
       "Model:                            OLS   Adj. R-squared:                  0.525\n",
       "Method:                 Least Squares   F-statistic:                     102.3\n",
       "Date:                Mon, 03 Jan 2022   Prob (F-statistic):          2.92e-141\n",
       "Time:                        20:19:27   Log-Likelihood:                -314.49\n",
       "No. Observations:                 918   AIC:                             651.0\n",
       "Df Residuals:                     907   BIC:                             704.0\n",
       "Df Model:                          10                                         \n",
       "Covariance Type:            nonrobust                                         \n",
       "==============================================================================\n",
       "                 coef    std err          t      P>|t|      [0.025      0.975]\n",
       "------------------------------------------------------------------------------\n",
       "const          0.5249      0.145      3.618      0.000       0.240       0.810\n",
       "x1             0.0016      0.001      1.156      0.248      -0.001       0.004\n",
       "x2             0.1547      0.029      5.301      0.000       0.097       0.212\n",
       "x3             0.1006      0.011      9.290      0.000       0.079       0.122\n",
       "x4             0.0004      0.001      0.695      0.487      -0.001       0.002\n",
       "x5            -0.0004      0.000     -3.780      0.000      -0.001      -0.000\n",
       "x6             0.1303      0.029      4.560      0.000       0.074       0.186\n",
       "x7            -0.0014      0.001     -2.563      0.011      -0.002      -0.000\n",
       "x8             0.1735      0.028      6.100      0.000       0.118       0.229\n",
       "x9             0.0400      0.013      3.051      0.002       0.014       0.066\n",
       "x10           -0.2173      0.024     -9.175      0.000      -0.264      -0.171\n",
       "==============================================================================\n",
       "Omnibus:                       15.332   Durbin-Watson:                   2.209\n",
       "Prob(Omnibus):                  0.000   Jarque-Bera (JB):               17.069\n",
       "Skew:                          -0.253   Prob(JB):                     0.000197\n",
       "Kurtosis:                       3.435   Cond. No.                     3.76e+03\n",
       "==============================================================================\n",
       "\n",
       "Notes:\n",
       "[1] Standard Errors assume that the covariance matrix of the errors is correctly specified.\n",
       "[2] The condition number is large, 3.76e+03. This might indicate that there are\n",
       "strong multicollinearity or other numerical problems.\n",
       "\"\"\""
      ]
     },
     "execution_count": 10,
     "metadata": {},
     "output_type": "execute_result"
    }
   ],
   "source": [
    "x_opt = x[:,[0,1,2,3,4,5,6,8,9,10,11]]\n",
    "regressor_OLS = sm.OLS(endog = y , exog = x_opt).fit()\n",
    "regressor_OLS.summary()"
   ]
  },
  {
   "cell_type": "code",
   "execution_count": 11,
   "id": "f01c20e4",
   "metadata": {},
   "outputs": [
    {
     "data": {
      "text/html": [
       "<table class=\"simpletable\">\n",
       "<caption>OLS Regression Results</caption>\n",
       "<tr>\n",
       "  <th>Dep. Variable:</th>      <td>HeartDisease</td>   <th>  R-squared:         </th> <td>   0.523</td> \n",
       "</tr>\n",
       "<tr>\n",
       "  <th>Model:</th>                   <td>OLS</td>       <th>  Adj. R-squared:    </th> <td>   0.518</td> \n",
       "</tr>\n",
       "<tr>\n",
       "  <th>Method:</th>             <td>Least Squares</td>  <th>  F-statistic:       </th> <td>   124.4</td> \n",
       "</tr>\n",
       "<tr>\n",
       "  <th>Date:</th>             <td>Mon, 03 Jan 2022</td> <th>  Prob (F-statistic):</th> <td>2.72e-140</td>\n",
       "</tr>\n",
       "<tr>\n",
       "  <th>Time:</th>                 <td>20:19:27</td>     <th>  Log-Likelihood:    </th> <td> -321.69</td> \n",
       "</tr>\n",
       "<tr>\n",
       "  <th>No. Observations:</th>      <td>   918</td>      <th>  AIC:               </th> <td>   661.4</td> \n",
       "</tr>\n",
       "<tr>\n",
       "  <th>Df Residuals:</th>          <td>   909</td>      <th>  BIC:               </th> <td>   704.8</td> \n",
       "</tr>\n",
       "<tr>\n",
       "  <th>Df Model:</th>              <td>     8</td>      <th>                     </th>     <td> </td>    \n",
       "</tr>\n",
       "<tr>\n",
       "  <th>Covariance Type:</th>      <td>nonrobust</td>    <th>                     </th>     <td> </td>    \n",
       "</tr>\n",
       "</table>\n",
       "<table class=\"simpletable\">\n",
       "<tr>\n",
       "    <td></td>       <th>coef</th>     <th>std err</th>      <th>t</th>      <th>P>|t|</th>  <th>[0.025</th>    <th>0.975]</th>  \n",
       "</tr>\n",
       "<tr>\n",
       "  <th>const</th> <td>    0.5272</td> <td>    0.129</td> <td>    4.076</td> <td> 0.000</td> <td>    0.273</td> <td>    0.781</td>\n",
       "</tr>\n",
       "<tr>\n",
       "  <th>x1</th>    <td>    0.0018</td> <td>    0.001</td> <td>    1.288</td> <td> 0.198</td> <td>   -0.001</td> <td>    0.004</td>\n",
       "</tr>\n",
       "<tr>\n",
       "  <th>x2</th>    <td>    0.1708</td> <td>    0.029</td> <td>    5.880</td> <td> 0.000</td> <td>    0.114</td> <td>    0.228</td>\n",
       "</tr>\n",
       "<tr>\n",
       "  <th>x3</th>    <td>    0.1028</td> <td>    0.011</td> <td>    9.451</td> <td> 0.000</td> <td>    0.081</td> <td>    0.124</td>\n",
       "</tr>\n",
       "<tr>\n",
       "  <th>x4</th>    <td>    0.1543</td> <td>    0.028</td> <td>    5.500</td> <td> 0.000</td> <td>    0.099</td> <td>    0.209</td>\n",
       "</tr>\n",
       "<tr>\n",
       "  <th>x5</th>    <td>   -0.0017</td> <td>    0.001</td> <td>   -3.237</td> <td> 0.001</td> <td>   -0.003</td> <td>   -0.001</td>\n",
       "</tr>\n",
       "<tr>\n",
       "  <th>x6</th>    <td>    0.1681</td> <td>    0.028</td> <td>    5.905</td> <td> 0.000</td> <td>    0.112</td> <td>    0.224</td>\n",
       "</tr>\n",
       "<tr>\n",
       "  <th>x7</th>    <td>    0.0354</td> <td>    0.013</td> <td>    2.710</td> <td> 0.007</td> <td>    0.010</td> <td>    0.061</td>\n",
       "</tr>\n",
       "<tr>\n",
       "  <th>x8</th>    <td>   -0.2209</td> <td>    0.024</td> <td>   -9.293</td> <td> 0.000</td> <td>   -0.268</td> <td>   -0.174</td>\n",
       "</tr>\n",
       "</table>\n",
       "<table class=\"simpletable\">\n",
       "<tr>\n",
       "  <th>Omnibus:</th>       <td>17.982</td> <th>  Durbin-Watson:     </th> <td>   2.150</td>\n",
       "</tr>\n",
       "<tr>\n",
       "  <th>Prob(Omnibus):</th> <td> 0.000</td> <th>  Jarque-Bera (JB):  </th> <td>  19.911</td>\n",
       "</tr>\n",
       "<tr>\n",
       "  <th>Skew:</th>          <td>-0.286</td> <th>  Prob(JB):          </th> <td>4.75e-05</td>\n",
       "</tr>\n",
       "<tr>\n",
       "  <th>Kurtosis:</th>      <td> 3.439</td> <th>  Cond. No.          </th> <td>1.69e+03</td>\n",
       "</tr>\n",
       "</table><br/><br/>Notes:<br/>[1] Standard Errors assume that the covariance matrix of the errors is correctly specified.<br/>[2] The condition number is large, 1.69e+03. This might indicate that there are<br/>strong multicollinearity or other numerical problems."
      ],
      "text/plain": [
       "<class 'statsmodels.iolib.summary.Summary'>\n",
       "\"\"\"\n",
       "                            OLS Regression Results                            \n",
       "==============================================================================\n",
       "Dep. Variable:           HeartDisease   R-squared:                       0.523\n",
       "Model:                            OLS   Adj. R-squared:                  0.518\n",
       "Method:                 Least Squares   F-statistic:                     124.4\n",
       "Date:                Mon, 03 Jan 2022   Prob (F-statistic):          2.72e-140\n",
       "Time:                        20:19:27   Log-Likelihood:                -321.69\n",
       "No. Observations:                 918   AIC:                             661.4\n",
       "Df Residuals:                     909   BIC:                             704.8\n",
       "Df Model:                           8                                         \n",
       "Covariance Type:            nonrobust                                         \n",
       "==============================================================================\n",
       "                 coef    std err          t      P>|t|      [0.025      0.975]\n",
       "------------------------------------------------------------------------------\n",
       "const          0.5272      0.129      4.076      0.000       0.273       0.781\n",
       "x1             0.0018      0.001      1.288      0.198      -0.001       0.004\n",
       "x2             0.1708      0.029      5.880      0.000       0.114       0.228\n",
       "x3             0.1028      0.011      9.451      0.000       0.081       0.124\n",
       "x4             0.1543      0.028      5.500      0.000       0.099       0.209\n",
       "x5            -0.0017      0.001     -3.237      0.001      -0.003      -0.001\n",
       "x6             0.1681      0.028      5.905      0.000       0.112       0.224\n",
       "x7             0.0354      0.013      2.710      0.007       0.010       0.061\n",
       "x8            -0.2209      0.024     -9.293      0.000      -0.268      -0.174\n",
       "==============================================================================\n",
       "Omnibus:                       17.982   Durbin-Watson:                   2.150\n",
       "Prob(Omnibus):                  0.000   Jarque-Bera (JB):               19.911\n",
       "Skew:                          -0.286   Prob(JB):                     4.75e-05\n",
       "Kurtosis:                       3.439   Cond. No.                     1.69e+03\n",
       "==============================================================================\n",
       "\n",
       "Notes:\n",
       "[1] Standard Errors assume that the covariance matrix of the errors is correctly specified.\n",
       "[2] The condition number is large, 1.69e+03. This might indicate that there are\n",
       "strong multicollinearity or other numerical problems.\n",
       "\"\"\""
      ]
     },
     "execution_count": 11,
     "metadata": {},
     "output_type": "execute_result"
    }
   ],
   "source": [
    "x_opt = x[:,[0,1,2,3,6,8,9,10,11]]\n",
    "regressor_OLS = sm.OLS(endog = y , exog = x_opt).fit()\n",
    "regressor_OLS.summary()"
   ]
  },
  {
   "cell_type": "code",
   "execution_count": 12,
   "id": "6531645b",
   "metadata": {},
   "outputs": [
    {
     "data": {
      "text/html": [
       "<table class=\"simpletable\">\n",
       "<caption>OLS Regression Results</caption>\n",
       "<tr>\n",
       "  <th>Dep. Variable:</th>      <td>HeartDisease</td>   <th>  R-squared:         </th> <td>   0.522</td> \n",
       "</tr>\n",
       "<tr>\n",
       "  <th>Model:</th>                   <td>OLS</td>       <th>  Adj. R-squared:    </th> <td>   0.518</td> \n",
       "</tr>\n",
       "<tr>\n",
       "  <th>Method:</th>             <td>Least Squares</td>  <th>  F-statistic:       </th> <td>   141.8</td> \n",
       "</tr>\n",
       "<tr>\n",
       "  <th>Date:</th>             <td>Mon, 03 Jan 2022</td> <th>  Prob (F-statistic):</th> <td>5.01e-141</td>\n",
       "</tr>\n",
       "<tr>\n",
       "  <th>Time:</th>                 <td>20:19:27</td>     <th>  Log-Likelihood:    </th> <td> -322.53</td> \n",
       "</tr>\n",
       "<tr>\n",
       "  <th>No. Observations:</th>      <td>   918</td>      <th>  AIC:               </th> <td>   661.1</td> \n",
       "</tr>\n",
       "<tr>\n",
       "  <th>Df Residuals:</th>          <td>   910</td>      <th>  BIC:               </th> <td>   699.6</td> \n",
       "</tr>\n",
       "<tr>\n",
       "  <th>Df Model:</th>              <td>     7</td>      <th>                     </th>     <td> </td>    \n",
       "</tr>\n",
       "<tr>\n",
       "  <th>Covariance Type:</th>      <td>nonrobust</td>    <th>                     </th>     <td> </td>    \n",
       "</tr>\n",
       "</table>\n",
       "<table class=\"simpletable\">\n",
       "<tr>\n",
       "    <td></td>       <th>coef</th>     <th>std err</th>      <th>t</th>      <th>P>|t|</th>  <th>[0.025</th>    <th>0.975]</th>  \n",
       "</tr>\n",
       "<tr>\n",
       "  <th>const</th> <td>    0.6491</td> <td>    0.088</td> <td>    7.360</td> <td> 0.000</td> <td>    0.476</td> <td>    0.822</td>\n",
       "</tr>\n",
       "<tr>\n",
       "  <th>x1</th>    <td>    0.1688</td> <td>    0.029</td> <td>    5.816</td> <td> 0.000</td> <td>    0.112</td> <td>    0.226</td>\n",
       "</tr>\n",
       "<tr>\n",
       "  <th>x2</th>    <td>    0.1030</td> <td>    0.011</td> <td>    9.461</td> <td> 0.000</td> <td>    0.082</td> <td>    0.124</td>\n",
       "</tr>\n",
       "<tr>\n",
       "  <th>x3</th>    <td>    0.1598</td> <td>    0.028</td> <td>    5.765</td> <td> 0.000</td> <td>    0.105</td> <td>    0.214</td>\n",
       "</tr>\n",
       "<tr>\n",
       "  <th>x4</th>    <td>   -0.0019</td> <td>    0.001</td> <td>   -3.814</td> <td> 0.000</td> <td>   -0.003</td> <td>   -0.001</td>\n",
       "</tr>\n",
       "<tr>\n",
       "  <th>x5</th>    <td>    0.1681</td> <td>    0.028</td> <td>    5.902</td> <td> 0.000</td> <td>    0.112</td> <td>    0.224</td>\n",
       "</tr>\n",
       "<tr>\n",
       "  <th>x6</th>    <td>    0.0382</td> <td>    0.013</td> <td>    2.960</td> <td> 0.003</td> <td>    0.013</td> <td>    0.063</td>\n",
       "</tr>\n",
       "<tr>\n",
       "  <th>x7</th>    <td>   -0.2221</td> <td>    0.024</td> <td>   -9.350</td> <td> 0.000</td> <td>   -0.269</td> <td>   -0.176</td>\n",
       "</tr>\n",
       "</table>\n",
       "<table class=\"simpletable\">\n",
       "<tr>\n",
       "  <th>Omnibus:</th>       <td>16.186</td> <th>  Durbin-Watson:     </th> <td>   2.155</td>\n",
       "</tr>\n",
       "<tr>\n",
       "  <th>Prob(Omnibus):</th> <td> 0.000</td> <th>  Jarque-Bera (JB):  </th> <td>  18.113</td>\n",
       "</tr>\n",
       "<tr>\n",
       "  <th>Skew:</th>          <td>-0.261</td> <th>  Prob(JB):          </th> <td>0.000117</td>\n",
       "</tr>\n",
       "<tr>\n",
       "  <th>Kurtosis:</th>      <td> 3.448</td> <th>  Cond. No.          </th> <td>1.09e+03</td>\n",
       "</tr>\n",
       "</table><br/><br/>Notes:<br/>[1] Standard Errors assume that the covariance matrix of the errors is correctly specified.<br/>[2] The condition number is large, 1.09e+03. This might indicate that there are<br/>strong multicollinearity or other numerical problems."
      ],
      "text/plain": [
       "<class 'statsmodels.iolib.summary.Summary'>\n",
       "\"\"\"\n",
       "                            OLS Regression Results                            \n",
       "==============================================================================\n",
       "Dep. Variable:           HeartDisease   R-squared:                       0.522\n",
       "Model:                            OLS   Adj. R-squared:                  0.518\n",
       "Method:                 Least Squares   F-statistic:                     141.8\n",
       "Date:                Mon, 03 Jan 2022   Prob (F-statistic):          5.01e-141\n",
       "Time:                        20:19:27   Log-Likelihood:                -322.53\n",
       "No. Observations:                 918   AIC:                             661.1\n",
       "Df Residuals:                     910   BIC:                             699.6\n",
       "Df Model:                           7                                         \n",
       "Covariance Type:            nonrobust                                         \n",
       "==============================================================================\n",
       "                 coef    std err          t      P>|t|      [0.025      0.975]\n",
       "------------------------------------------------------------------------------\n",
       "const          0.6491      0.088      7.360      0.000       0.476       0.822\n",
       "x1             0.1688      0.029      5.816      0.000       0.112       0.226\n",
       "x2             0.1030      0.011      9.461      0.000       0.082       0.124\n",
       "x3             0.1598      0.028      5.765      0.000       0.105       0.214\n",
       "x4            -0.0019      0.001     -3.814      0.000      -0.003      -0.001\n",
       "x5             0.1681      0.028      5.902      0.000       0.112       0.224\n",
       "x6             0.0382      0.013      2.960      0.003       0.013       0.063\n",
       "x7            -0.2221      0.024     -9.350      0.000      -0.269      -0.176\n",
       "==============================================================================\n",
       "Omnibus:                       16.186   Durbin-Watson:                   2.155\n",
       "Prob(Omnibus):                  0.000   Jarque-Bera (JB):               18.113\n",
       "Skew:                          -0.261   Prob(JB):                     0.000117\n",
       "Kurtosis:                       3.448   Cond. No.                     1.09e+03\n",
       "==============================================================================\n",
       "\n",
       "Notes:\n",
       "[1] Standard Errors assume that the covariance matrix of the errors is correctly specified.\n",
       "[2] The condition number is large, 1.09e+03. This might indicate that there are\n",
       "strong multicollinearity or other numerical problems.\n",
       "\"\"\""
      ]
     },
     "execution_count": 12,
     "metadata": {},
     "output_type": "execute_result"
    }
   ],
   "source": [
    "x_opt = x[:,[0,2,3,6,8,9,10,11]]\n",
    "regressor_OLS = sm.OLS(endog = y , exog = x_opt).fit()\n",
    "regressor_OLS.summary()"
   ]
  },
  {
   "cell_type": "code",
   "execution_count": 13,
   "id": "40259676",
   "metadata": {},
   "outputs": [],
   "source": [
    "df = df[['Sex','ChestPainType','Cholesterol','FastingBS','ExerciseAngina','Oldpeak','ST_Slope','HeartDisease']]"
   ]
  },
  {
   "cell_type": "markdown",
   "id": "247bcc1e",
   "metadata": {},
   "source": [
    "## Importing the dataset"
   ]
  },
  {
   "cell_type": "code",
   "execution_count": 14,
   "id": "9a937f48",
   "metadata": {},
   "outputs": [],
   "source": [
    "X = df.iloc[:, [0,1,2,3,4,5,6]].values\n",
    "Y = df.iloc[:, -1].values"
   ]
  },
  {
   "cell_type": "markdown",
   "id": "7586c8c6",
   "metadata": {},
   "source": [
    "## Feature Scaling"
   ]
  },
  {
   "cell_type": "code",
   "execution_count": 15,
   "id": "c8d17720",
   "metadata": {},
   "outputs": [],
   "source": [
    "from sklearn.preprocessing import MinMaxScaler\n",
    "sc = MinMaxScaler()\n",
    "X = sc.fit_transform(X)"
   ]
  },
  {
   "cell_type": "markdown",
   "id": "b700d405",
   "metadata": {},
   "source": [
    "## Splitting the dataset into the Training set and Test set"
   ]
  },
  {
   "cell_type": "code",
   "execution_count": 16,
   "id": "2de8982c",
   "metadata": {},
   "outputs": [],
   "source": [
    "from sklearn.model_selection import train_test_split\n",
    "X_train, X_test, y_train, y_test = train_test_split(X, Y, test_size = 0.2, random_state = 0)"
   ]
  },
  {
   "cell_type": "markdown",
   "id": "8c9803bc",
   "metadata": {},
   "source": [
    "## Feature extraction\n",
    "## Applying PCA"
   ]
  },
  {
   "cell_type": "code",
   "execution_count": 17,
   "id": "5685b961",
   "metadata": {},
   "outputs": [],
   "source": [
    "from sklearn.decomposition import PCA\n",
    "pca = PCA(n_components = 2 )\n",
    "X_train = pca.fit_transform(X_train)\n",
    "X_test = pca.transform(X_test)\n",
    "explained_variance = pca.explained_variance_ratio_"
   ]
  },
  {
   "cell_type": "code",
   "execution_count": 18,
   "id": "7abd9fb7",
   "metadata": {},
   "outputs": [
    {
     "data": {
      "image/png": "[encoded data removed]",
      "text/plain": [
       "<Figure size 432x288 with 1 Axes>"
      ]
     },
     "metadata": {
      "needs_background": "light"
     },
     "output_type": "display_data"
    }
   ],
   "source": [
    "plt.scatter(X_train[:,0], X_train[:,1])\n",
    "plt.show()"
   ]
  },
  {
   "cell_type": "markdown",
   "id": "3c3b04c9",
   "metadata": {},
   "source": [
    "## Training the K-NN model on the Training set"
   ]
  },
  {
   "cell_type": "code",
   "execution_count": 19,
   "id": "43279e96",
   "metadata": {},
   "outputs": [
    {
     "data": {
      "text/plain": [
       "KNeighborsClassifier()"
      ]
     },
     "execution_count": 19,
     "metadata": {},
     "output_type": "execute_result"
    }
   ],
   "source": [
    "from sklearn.neighbors import KNeighborsClassifier\n",
    "classifier = KNeighborsClassifier(n_neighbors = 5, metric = 'minkowski', p = 2)\n",
    "classifier.fit(X_train, y_train)"
   ]
  },
  {
   "cell_type": "markdown",
   "id": "9f0a34b0",
   "metadata": {},
   "source": [
    "## Predicting the Test set results"
   ]
  },
  {
   "cell_type": "code",
   "execution_count": 20,
   "id": "a1d514f1",
   "metadata": {},
   "outputs": [],
   "source": [
    "y_pred = classifier.predict(X_test)"
   ]
  },
  {
   "cell_type": "markdown",
   "id": "fcf7f6bf",
   "metadata": {},
   "source": [
    "## Making the Confusion Matrix"
   ]
  },
  {
   "cell_type": "code",
   "execution_count": 21,
   "id": "93ed5512",
   "metadata": {},
   "outputs": [
    {
     "name": "stdout",
     "output_type": "stream",
     "text": [
      "[[60 17]\n",
      " [11 96]]\n"
     ]
    }
   ],
   "source": [
    "from sklearn.metrics import confusion_matrix\n",
    "cm = confusion_matrix(y_test, y_pred)\n",
    "print(cm)"
   ]
  },
  {
   "cell_type": "markdown",
   "id": "e3ad6935",
   "metadata": {},
   "source": [
    "## Visualising the Training set results"
   ]
  },
  {
   "cell_type": "code",
   "execution_count": 22,
   "id": "bcbe85ac",
   "metadata": {},
   "outputs": [
    {
     "name": "stderr",
     "output_type": "stream",
     "text": [
      "*c* argument looks like a single numeric RGB or RGBA sequence, which should be avoided as value-mapping will have precedence in case its length matches with *x* & *y*.  Please use the *color* keyword-argument or provide a 2-D array with a single row if you intend to specify the same RGB or RGBA value for all points.\n",
      "*c* argument looks like a single numeric RGB or RGBA sequence, which should be avoided as value-mapping will have precedence in case its length matches with *x* & *y*.  Please use the *color* keyword-argument or provide a 2-D array with a single row if you intend to specify the same RGB or RGBA value for all points.\n"
     ]
    },
    {
     "data": {
      "image/png": "[encoded data removed]",
      "text/plain": [
       "<Figure size 432x288 with 1 Axes>"
      ]
     },
     "metadata": {
      "needs_background": "light"
     },
     "output_type": "display_data"
    }
   ],
   "source": [
    "from matplotlib.colors import ListedColormap\n",
    "X_set, y_set = X_train, y_train\n",
    "X1, X2 = np.meshgrid(np.arange(start = X_set[:, 0].min() - 1, stop = X_set[:, 0].max() + 1, step = 0.01),\n",
    "                     np.arange(start = X_set[:, 1].min() - 1, stop = X_set[:, 1].max() + 1, step = 0.01))\n",
    "plt.contourf(X1, X2, classifier.predict(np.array([X1.ravel(), X2.ravel()]).T).reshape(X1.shape),\n",
    "             alpha = 0.75, cmap = ListedColormap(('green', 'red')))\n",
    "plt.xlim(X1.min(), X1.max())\n",
    "plt.ylim(X2.min(), X2.max())\n",
    "for i, j in enumerate(np.unique(y_set)):\n",
    "    plt.scatter(X_set[y_set == j, 0], X_set[y_set == j, 1],\n",
    "                c = ListedColormap(('green','red' ))(i), label = j)\n",
    "plt.title('KNN (Training set)')\n",
    "plt.xlabel('PC1')\n",
    "plt.ylabel('PC2')\n",
    "plt.legend()\n",
    "plt.show()"
   ]
  },
  {
   "cell_type": "markdown",
   "id": "7dfe8b8e",
   "metadata": {},
   "source": [
    "## Visualising the Test set results"
   ]
  },
  {
   "cell_type": "code",
   "execution_count": 23,
   "id": "1a066fe3",
   "metadata": {},
   "outputs": [
    {
     "name": "stderr",
     "output_type": "stream",
     "text": [
      "*c* argument looks like a single numeric RGB or RGBA sequence, which should be avoided as value-mapping will have precedence in case its length matches with *x* & *y*.  Please use the *color* keyword-argument or provide a 2-D array with a single row if you intend to specify the same RGB or RGBA value for all points.\n",
      "*c* argument looks like a single numeric RGB or RGBA sequence, which should be avoided as value-mapping will have precedence in case its length matches with *x* & *y*.  Please use the *color* keyword-argument or provide a 2-D array with a single row if you intend to specify the same RGB or RGBA value for all points.\n"
     ]
    },
    {
     "data": {
      "image/png": "[encoded data removed]",
      "text/plain": [
       "<Figure size 432x288 with 1 Axes>"
      ]
     },
     "metadata": {
      "needs_background": "light"
     },
     "output_type": "display_data"
    }
   ],
   "source": [
    "from matplotlib.colors import ListedColormap\n",
    "X_set, y_set = X_test, y_test\n",
    "X1, X2 = np.meshgrid(np.arange(start = X_set[:, 0].min() - 1, stop = X_set[:, 0].max() + 1, step = 0.01),\n",
    "                     np.arange(start = X_set[:, 1].min() - 1, stop = X_set[:, 1].max() + 1, step = 0.01))\n",
    "plt.contourf(X1, X2, classifier.predict(np.array([X1.ravel(), X2.ravel()]).T).reshape(X1.shape),\n",
    "             alpha = 0.75, cmap = ListedColormap(('white', 'white',)))\n",
    "plt.xlim(X1.min(), X1.max())\n",
    "plt.ylim(X2.min(), X2.max())\n",
    "for i, j in enumerate(np.unique(y_set)):\n",
    "    plt.scatter(X_set[y_set == j, 0], X_set[y_set == j, 1],\n",
    "                c = ListedColormap(('green','red' ))(i), label = j)\n",
    "plt.title('KNN (Test set)')\n",
    "plt.xlabel('PC1')\n",
    "plt.ylabel('PC2')\n",
    "plt.legend()\n",
    "plt.show()"
   ]
  }
 ],
 "metadata": {
  "kernelspec": {
   "display_name": "Python 3",
   "language": "python",
   "name": "python3"
  },
  "language_info": {
   "codemirror_mode": {
    "name": "ipython",
    "version": 3
   },
   "file_extension": ".py",
   "mimetype": "text/x-python",
   "name": "python",
   "nbconvert_exporter": "python",
   "pygments_lexer": "ipython3",
   "version": "3.8.8"
  }
 },
 "nbformat": 4,
 "nbformat_minor": 5
}
